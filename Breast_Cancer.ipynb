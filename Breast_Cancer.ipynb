{
  "nbformat": 4,
  "nbformat_minor": 0,
  "metadata": {
    "colab": {
      "name": "Breast_Cancer.ipynb",
      "provenance": []
    },
    "kernelspec": {
      "name": "python3",
      "display_name": "Python 3"
    }
  },
  "cells": [
    {
      "cell_type": "markdown",
      "metadata": {
        "id": "L8jGXRXK9Pqu"
      },
      "source": [
        "Importing Libraries"
      ]
    },
    {
      "cell_type": "code",
      "metadata": {
        "id": "ttO2kX-415-G"
      },
      "source": [
        "import pandas as pd"
      ],
      "execution_count": 20,
      "outputs": []
    },
    {
      "cell_type": "markdown",
      "metadata": {
        "id": "3Qe0n7QK9UK4"
      },
      "source": [
        "Importing *dataset*"
      ]
    },
    {
      "cell_type": "code",
      "metadata": {
        "id": "YFwD_jDl1_dS"
      },
      "source": [
        "df = pd.read_csv('breast_cancer.csv')"
      ],
      "execution_count": 21,
      "outputs": []
    },
    {
      "cell_type": "code",
      "metadata": {
        "id": "1RoYN7Hm25AL"
      },
      "source": [
        "#feature matrix\r\n",
        "X = df.iloc[:,1:-1].values\r\n",
        "#dependent variable vector \r\n",
        "y = df.iloc[:,-1].values"
      ],
      "execution_count": 22,
      "outputs": []
    },
    {
      "cell_type": "markdown",
      "metadata": {
        "id": "Nc74cwUi9hNQ"
      },
      "source": [
        "Splitting the dataset into the Training set and Test set\r\n",
        "\r\n"
      ]
    },
    {
      "cell_type": "code",
      "metadata": {
        "id": "6K0z_9CJ6xrX"
      },
      "source": [
        "from sklearn.model_selection import train_test_split\r\n",
        "X_train, X_test, y_train, y_test = train_test_split(X, y, test_size = 0.2, random_state = 0)"
      ],
      "execution_count": 23,
      "outputs": []
    },
    {
      "cell_type": "markdown",
      "metadata": {
        "id": "gll2fp139yXt"
      },
      "source": [
        "Training the Logistic Regression Model on the training set"
      ]
    },
    {
      "cell_type": "code",
      "metadata": {
        "colab": {
          "base_uri": "https://localhost:8080/"
        },
        "id": "eHJjM5S-8ggW",
        "outputId": "720f2caf-0fea-48ed-fb9b-521dc4891158"
      },
      "source": [
        "from sklearn.linear_model import LogisticRegression\r\n",
        "classifier = LogisticRegression(random_state = 0)\r\n",
        "classifier.fit(X_train, y_train)"
      ],
      "execution_count": 24,
      "outputs": [
        {
          "output_type": "execute_result",
          "data": {
            "text/plain": [
              "LogisticRegression(C=1.0, class_weight=None, dual=False, fit_intercept=True,\n",
              "                   intercept_scaling=1, l1_ratio=None, max_iter=100,\n",
              "                   multi_class='auto', n_jobs=None, penalty='l2',\n",
              "                   random_state=0, solver='lbfgs', tol=0.0001, verbose=0,\n",
              "                   warm_start=False)"
            ]
          },
          "metadata": {
            "tags": []
          },
          "execution_count": 24
        }
      ]
    },
    {
      "cell_type": "markdown",
      "metadata": {
        "id": "baD-SLeE97ng"
      },
      "source": [
        "Predicting the Test results"
      ]
    },
    {
      "cell_type": "code",
      "metadata": {
        "id": "mih4cttB9K6c"
      },
      "source": [
        "y_pred = classifier.predict(X_test)"
      ],
      "execution_count": 25,
      "outputs": []
    },
    {
      "cell_type": "markdown",
      "metadata": {
        "id": "mCNRLT4E-vZx"
      },
      "source": [
        "Making the Confusion Matrix"
      ]
    },
    {
      "cell_type": "code",
      "metadata": {
        "colab": {
          "base_uri": "https://localhost:8080/"
        },
        "id": "RJUKJnOk-d5L",
        "outputId": "d2c81aa9-eae2-4662-9f87-0b67cb2eea21"
      },
      "source": [
        "from sklearn.metrics import confusion_matrix\r\n",
        "cm = confusion_matrix(y_pred, y_test)\r\n",
        "print(cm)\r\n",
        "# 84+47 correct predictions out of total 84+3+3+47 dataset \r\n",
        "# 3+3 incorrect predictions"
      ],
      "execution_count": 26,
      "outputs": [
        {
          "output_type": "stream",
          "text": [
            "[[84  3]\n",
            " [ 3 47]]\n"
          ],
          "name": "stdout"
        }
      ]
    },
    {
      "cell_type": "code",
      "metadata": {
        "colab": {
          "base_uri": "https://localhost:8080/"
        },
        "id": "wX2WOc70_-Ai",
        "outputId": "bcfb5423-3187-4054-d130-e5f6f0080e8e"
      },
      "source": [
        "(84+47)/(84+47+3+3)"
      ],
      "execution_count": 27,
      "outputs": [
        {
          "output_type": "execute_result",
          "data": {
            "text/plain": [
              "0.9562043795620438"
            ]
          },
          "metadata": {
            "tags": []
          },
          "execution_count": 27
        }
      ]
    },
    {
      "cell_type": "markdown",
      "metadata": {
        "id": "xaN7elCD_uGc"
      },
      "source": [
        "Computing the accuracy with k-Fold cross validation"
      ]
    },
    {
      "cell_type": "code",
      "metadata": {
        "colab": {
          "base_uri": "https://localhost:8080/"
        },
        "id": "C5HOy2LY_Guy",
        "outputId": "a77e704d-934c-4cd1-eca3-603ab3cfc3fc"
      },
      "source": [
        "from sklearn.model_selection import cross_val_score\r\n",
        "accuracies = cross_val_score(estimator = classifier, X= X_train,y = y_train, cv = 10)\r\n",
        "print(\"Accuracy : {:.2f}%\".format(accuracies.mean()*100))\r\n",
        "print(\"Standard deviation : {:.2f}%\".format(accuracies.std()*100))"
      ],
      "execution_count": 31,
      "outputs": [
        {
          "output_type": "stream",
          "text": [
            "Accuracy : 96.70%\n",
            "Standard deviation : 1.97%\n"
          ],
          "name": "stdout"
        }
      ]
    },
    {
      "cell_type": "code",
      "metadata": {
        "id": "-s0IHkMFB7qH"
      },
      "source": [
        ""
      ],
      "execution_count": 28,
      "outputs": []
    }
  ]
}